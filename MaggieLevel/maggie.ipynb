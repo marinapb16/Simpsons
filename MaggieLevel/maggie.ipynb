{
  "nbformat": 4,
  "nbformat_minor": 0,
  "metadata": {
    "colab": {
      "provenance": [],
      "collapsed_sections": [],
      "authorship_tag": "ABX9TyP+5hjGaz0j1dAubfJ1TcGC",
      "include_colab_link": true
    },
    "kernelspec": {
      "name": "python3",
      "display_name": "Python 3"
    },
    "language_info": {
      "name": "python"
    }
  },
  "cells": [
    {
      "cell_type": "markdown",
      "metadata": {
        "id": "view-in-github",
        "colab_type": "text"
      },
      "source": [
        "<a href=\"https://colab.research.google.com/github/marinapb16/Simpsons/blob/main/MaggieLevel/maggie.ipynb\" target=\"_parent\"><img src=\"https://colab.research.google.com/assets/colab-badge.svg\" alt=\"Open In Colab\"/></a>"
      ]
    },
    {
      "cell_type": "code",
      "execution_count": 1,
      "metadata": {
        "id": "1Fo4Tmx_6c9h"
      },
      "outputs": [],
      "source": [
        "!mkdir General\n",
        "!mkdir Lisa\n",
        "!mkdir Homer"
      ]
    },
    {
      "cell_type": "code",
      "source": [
        "'''Instalamos libreria requests que nos va a servir para poder hacer una peticion a un servidor'''\n",
        "import requests\n",
        "import time\n",
        "import csv\n",
        "\n",
        "while True:\n",
        "\n",
        "\n",
        "    #Definimos la URL a la que vamos a solicitar una respuesta\n",
        "    URL = \"https://thesimpsonsquoteapi.glitch.me/quotes\"\n",
        "    #Realizamos la peticion GET a la URL que hemos establecido\n",
        "    # y obtenemos una respuesta\n",
        "    respuesta = requests.get(url = URL)\n",
        "    #url indica el parametro que le estamos pasando\n",
        "  \n",
        "    # Extraemos los datos en formato JSON\n",
        "    # a taves del metodo de la clase response.json()\n",
        "    datos = respuesta.json() \n",
        "\n",
        "    # Obtenemos valor en la clave 'value' del JSON que nos interesa\n",
        "    #  en este caso la frase y la persona que lo dice\n",
        "    frase_simpson: str = datos[0]['quote']\n",
        "    autor: str = datos[0]['character']\n",
        "\n",
        "    print(frase_simpson,':', autor)\n",
        "\n",
        "    #creo un csv con frase y autor de todos ellos \n",
        "    my_dict = {'quote': frase_simpson, 'character':autor}\n",
        "    with open('General/general.csv', 'a') as csvfile:\n",
        "            w = csv.DictWriter(csvfile, my_dict.keys())\n",
        "\n",
        "            w.writerow(my_dict)\n",
        "\n",
        "    #creamos bucle para clasificar segun la frase sea de Lisa o de Homer\n",
        "    #creamos un csv dentro de sus propias carpetas\n",
        "    if autor == 'Lisa Simpson':\n",
        "        my_dict = {'quote': frase_simpson, 'character':autor} \n",
        "        with open('Lisa/lisa.csv', 'a') as csvfile:\n",
        "            w = csv.DictWriter(csvfile, my_dict.keys())\n",
        "\n",
        "            w.writerow(my_dict)\n",
        "    \n",
        "    elif autor == 'Homer Simpson':\n",
        "        my_dict = {'quote': frase_simpson, 'character':autor}\n",
        "        with open('Homer/homer.csv', 'a') as csvfile:\n",
        "            w = csv.DictWriter(csvfile, my_dict.keys())\n",
        "\n",
        "            w.writerow(my_dict)\n",
        "            \n",
        "    time.sleep(30)"
      ],
      "metadata": {
        "id": "0cEFZt5e68_T"
      },
      "execution_count": null,
      "outputs": []
    }
  ]
}
